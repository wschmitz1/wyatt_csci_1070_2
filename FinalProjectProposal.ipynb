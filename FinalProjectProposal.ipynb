{
 "cells": [
  {
   "cell_type": "markdown",
   "metadata": {},
   "source": [
    "## Final Project Proposal: Crash Reporting"
   ]
  },
  {
   "cell_type": "markdown",
   "metadata": {},
   "source": [
    "1. I am working alone. I plan to spend my Saturday and Sunday mornings (when I have time) working on this after completing my weekly work for the class. "
   ]
  },
  {
   "cell_type": "markdown",
   "metadata": {},
   "source": [
    "2. I plan to use the Crash Reporting Driver's Data Set. This displays numerous details/implications covering over 172,000 reported crashes. There are 43 columns in this dataset, so I have already begun to highlight which columns I would like to remove. The dataset can be found at the follwowing link: https://catalog.data.gov/dataset/crash-reporting-drivers-data"
   ]
  },
  {
   "cell_type": "markdown",
   "metadata": {},
   "source": [
    "3. My draft null hypothesis is as follows: For my Crash Reporting Dataset, there will be no difference in the likelihood of an older model vehicle (before 2017) to cause collisions involving alcohol when compared to newer model vehicles (2017 or after).\n",
    "\n",
    "    My draft alternative hypothesis is that for the Crash Reporting Dataset, there will be a difference in the lilelihood of a collision happening with an intoxicated driver as opposed to a sober one. "
   ]
  },
  {
   "cell_type": "markdown",
   "metadata": {},
   "source": [
    "4. In honesty, I plan to plug and play most models we have used in class to get a feel for which work best. Ultimately some of this big ones I see using are linear and logistic regression to help me shed light on the assumptions I make about the model. Of course, for logistic regression, this means I will have to convert some of the data into binary results. I also see myself playing with K Nearest Neighbor. "
   ]
  }
 ],
 "metadata": {
  "language_info": {
   "name": "python"
  }
 },
 "nbformat": 4,
 "nbformat_minor": 2
}
